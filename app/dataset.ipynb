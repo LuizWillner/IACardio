{
 "cells": [
  {
   "cell_type": "markdown",
   "metadata": {},
   "source": [
    "# Preparação do ambiente"
   ]
  },
  {
   "cell_type": "markdown",
   "metadata": {},
   "source": [
    "### Importação das Bibliotecas"
   ]
  },
  {
   "cell_type": "code",
   "execution_count": 4,
   "metadata": {},
   "outputs": [],
   "source": [
    "# Importando bibliotecas necessárias\n",
    "import pandas as pd\n",
    "import matplotlib.pyplot as plt\n",
    "import seaborn as sns\n",
    "import numpy as np\n",
    "from sklearn.preprocessing import StandardScaler, LabelEncoder, OneHotEncoder, OrdinalEncoder\n",
    "from sklearn.model_selection import train_test_split, KFold, cross_val_score\n",
    "from sklearn.neighbors import KNeighborsClassifier\n",
    "from sklearn.tree import DecisionTreeClassifier\n",
    "from sklearn.ensemble import RandomForestClassifier\n",
    "from sklearn.linear_model import LogisticRegression\n",
    "from sklearn.preprocessing import OneHotEncoder\n",
    "from sklearn import metrics\n",
    "from imblearn.under_sampling import RandomUnderSampler\n",
    "import os"
   ]
  },
  {
   "cell_type": "markdown",
   "metadata": {},
   "source": [
    "### Definição do caminho do dataset"
   ]
  },
  {
   "cell_type": "code",
   "execution_count": 5,
   "metadata": {},
   "outputs": [],
   "source": [
    "APP_DIRECTORY = os.getcwd()\n",
    "\n",
    "# Nomes padrões\n",
    "DATA_DIRECTORY = 'data'\n",
    "FILE_NAME = 'heart_2022_no_nans.csv'\n",
    "\n",
    "# Definindo o caminho da base de dados dentro do projeto\n",
    "FILE_PATH = os.path.join(DATA_DIRECTORY, FILE_NAME)\n",
    "\n",
    "# Definindo o caminho completo para o arquivo 'heart_2022_no_nans.csv'\n",
    "FULL_FILE_PATH = os.path.join(APP_DIRECTORY, FILE_PATH)"
   ]
  },
  {
   "cell_type": "markdown",
   "metadata": {},
   "source": [
    "# Leitura do Dataset"
   ]
  },
  {
   "cell_type": "markdown",
   "metadata": {},
   "source": [
    "Em primeiro lugar, começa-se carregando o dataset obtido do [Kaggle](https://www.kaggle.com/datasets/kamilpytlak/personal-key-indicators-of-heart-disease/data?select=2022). O comando _set_option('display.max_columns', None)_ do Pandas determina que todas as colunas da base devem ser mostradas por default, a não ser que o contrário seja especificado."
   ]
  },
  {
   "cell_type": "code",
   "execution_count": 6,
   "metadata": {},
   "outputs": [
    {
     "name": "stdout",
     "output_type": "stream",
     "text": [
      "Abrindo base de dados em c:\\Users\\masar\\Documents\\UFF\\Oitavo Semestre\\IA\\IACardio\\app\\data\\heart_2022_no_nans.csv\n"
     ]
    },
    {
     "data": {
      "text/html": [
       "<div>\n",
       "<style scoped>\n",
       "    .dataframe tbody tr th:only-of-type {\n",
       "        vertical-align: middle;\n",
       "    }\n",
       "\n",
       "    .dataframe tbody tr th {\n",
       "        vertical-align: top;\n",
       "    }\n",
       "\n",
       "    .dataframe thead th {\n",
       "        text-align: right;\n",
       "    }\n",
       "</style>\n",
       "<table border=\"1\" class=\"dataframe\">\n",
       "  <thead>\n",
       "    <tr style=\"text-align: right;\">\n",
       "      <th></th>\n",
       "      <th>State</th>\n",
       "      <th>Sex</th>\n",
       "      <th>GeneralHealth</th>\n",
       "      <th>PhysicalHealthDays</th>\n",
       "      <th>MentalHealthDays</th>\n",
       "      <th>LastCheckupTime</th>\n",
       "      <th>PhysicalActivities</th>\n",
       "      <th>SleepHours</th>\n",
       "      <th>RemovedTeeth</th>\n",
       "      <th>HadHeartAttack</th>\n",
       "      <th>HadAngina</th>\n",
       "      <th>HadStroke</th>\n",
       "      <th>HadAsthma</th>\n",
       "      <th>HadSkinCancer</th>\n",
       "      <th>HadCOPD</th>\n",
       "      <th>HadDepressiveDisorder</th>\n",
       "      <th>HadKidneyDisease</th>\n",
       "      <th>HadArthritis</th>\n",
       "      <th>HadDiabetes</th>\n",
       "      <th>DeafOrHardOfHearing</th>\n",
       "      <th>BlindOrVisionDifficulty</th>\n",
       "      <th>DifficultyConcentrating</th>\n",
       "      <th>DifficultyWalking</th>\n",
       "      <th>DifficultyDressingBathing</th>\n",
       "      <th>DifficultyErrands</th>\n",
       "      <th>SmokerStatus</th>\n",
       "      <th>ECigaretteUsage</th>\n",
       "      <th>ChestScan</th>\n",
       "      <th>RaceEthnicityCategory</th>\n",
       "      <th>AgeCategory</th>\n",
       "      <th>HeightInMeters</th>\n",
       "      <th>WeightInKilograms</th>\n",
       "      <th>BMI</th>\n",
       "      <th>AlcoholDrinkers</th>\n",
       "      <th>HIVTesting</th>\n",
       "      <th>FluVaxLast12</th>\n",
       "      <th>PneumoVaxEver</th>\n",
       "      <th>TetanusLast10Tdap</th>\n",
       "      <th>HighRiskLastYear</th>\n",
       "      <th>CovidPos</th>\n",
       "    </tr>\n",
       "  </thead>\n",
       "  <tbody>\n",
       "    <tr>\n",
       "      <th>0</th>\n",
       "      <td>Alabama</td>\n",
       "      <td>Female</td>\n",
       "      <td>Very good</td>\n",
       "      <td>4.0</td>\n",
       "      <td>0.0</td>\n",
       "      <td>Within past year (anytime less than 12 months ...</td>\n",
       "      <td>Yes</td>\n",
       "      <td>9.0</td>\n",
       "      <td>None of them</td>\n",
       "      <td>No</td>\n",
       "      <td>No</td>\n",
       "      <td>No</td>\n",
       "      <td>No</td>\n",
       "      <td>No</td>\n",
       "      <td>No</td>\n",
       "      <td>No</td>\n",
       "      <td>No</td>\n",
       "      <td>Yes</td>\n",
       "      <td>No</td>\n",
       "      <td>No</td>\n",
       "      <td>No</td>\n",
       "      <td>No</td>\n",
       "      <td>No</td>\n",
       "      <td>No</td>\n",
       "      <td>No</td>\n",
       "      <td>Former smoker</td>\n",
       "      <td>Never used e-cigarettes in my entire life</td>\n",
       "      <td>No</td>\n",
       "      <td>White only, Non-Hispanic</td>\n",
       "      <td>Age 65 to 69</td>\n",
       "      <td>1.60</td>\n",
       "      <td>71.67</td>\n",
       "      <td>27.99</td>\n",
       "      <td>No</td>\n",
       "      <td>No</td>\n",
       "      <td>Yes</td>\n",
       "      <td>Yes</td>\n",
       "      <td>Yes, received Tdap</td>\n",
       "      <td>No</td>\n",
       "      <td>No</td>\n",
       "    </tr>\n",
       "    <tr>\n",
       "      <th>1</th>\n",
       "      <td>Alabama</td>\n",
       "      <td>Male</td>\n",
       "      <td>Very good</td>\n",
       "      <td>0.0</td>\n",
       "      <td>0.0</td>\n",
       "      <td>Within past year (anytime less than 12 months ...</td>\n",
       "      <td>Yes</td>\n",
       "      <td>6.0</td>\n",
       "      <td>None of them</td>\n",
       "      <td>No</td>\n",
       "      <td>No</td>\n",
       "      <td>No</td>\n",
       "      <td>No</td>\n",
       "      <td>No</td>\n",
       "      <td>No</td>\n",
       "      <td>No</td>\n",
       "      <td>No</td>\n",
       "      <td>Yes</td>\n",
       "      <td>Yes</td>\n",
       "      <td>No</td>\n",
       "      <td>No</td>\n",
       "      <td>No</td>\n",
       "      <td>No</td>\n",
       "      <td>No</td>\n",
       "      <td>No</td>\n",
       "      <td>Former smoker</td>\n",
       "      <td>Never used e-cigarettes in my entire life</td>\n",
       "      <td>No</td>\n",
       "      <td>White only, Non-Hispanic</td>\n",
       "      <td>Age 70 to 74</td>\n",
       "      <td>1.78</td>\n",
       "      <td>95.25</td>\n",
       "      <td>30.13</td>\n",
       "      <td>No</td>\n",
       "      <td>No</td>\n",
       "      <td>Yes</td>\n",
       "      <td>Yes</td>\n",
       "      <td>Yes, received tetanus shot but not sure what type</td>\n",
       "      <td>No</td>\n",
       "      <td>No</td>\n",
       "    </tr>\n",
       "    <tr>\n",
       "      <th>2</th>\n",
       "      <td>Alabama</td>\n",
       "      <td>Male</td>\n",
       "      <td>Very good</td>\n",
       "      <td>0.0</td>\n",
       "      <td>0.0</td>\n",
       "      <td>Within past year (anytime less than 12 months ...</td>\n",
       "      <td>No</td>\n",
       "      <td>8.0</td>\n",
       "      <td>6 or more, but not all</td>\n",
       "      <td>No</td>\n",
       "      <td>No</td>\n",
       "      <td>No</td>\n",
       "      <td>No</td>\n",
       "      <td>No</td>\n",
       "      <td>No</td>\n",
       "      <td>No</td>\n",
       "      <td>No</td>\n",
       "      <td>Yes</td>\n",
       "      <td>No</td>\n",
       "      <td>No</td>\n",
       "      <td>Yes</td>\n",
       "      <td>No</td>\n",
       "      <td>Yes</td>\n",
       "      <td>No</td>\n",
       "      <td>No</td>\n",
       "      <td>Former smoker</td>\n",
       "      <td>Never used e-cigarettes in my entire life</td>\n",
       "      <td>Yes</td>\n",
       "      <td>White only, Non-Hispanic</td>\n",
       "      <td>Age 75 to 79</td>\n",
       "      <td>1.85</td>\n",
       "      <td>108.86</td>\n",
       "      <td>31.66</td>\n",
       "      <td>Yes</td>\n",
       "      <td>No</td>\n",
       "      <td>No</td>\n",
       "      <td>Yes</td>\n",
       "      <td>No, did not receive any tetanus shot in the pa...</td>\n",
       "      <td>No</td>\n",
       "      <td>Yes</td>\n",
       "    </tr>\n",
       "    <tr>\n",
       "      <th>3</th>\n",
       "      <td>Alabama</td>\n",
       "      <td>Female</td>\n",
       "      <td>Fair</td>\n",
       "      <td>5.0</td>\n",
       "      <td>0.0</td>\n",
       "      <td>Within past year (anytime less than 12 months ...</td>\n",
       "      <td>Yes</td>\n",
       "      <td>9.0</td>\n",
       "      <td>None of them</td>\n",
       "      <td>No</td>\n",
       "      <td>No</td>\n",
       "      <td>No</td>\n",
       "      <td>No</td>\n",
       "      <td>Yes</td>\n",
       "      <td>No</td>\n",
       "      <td>Yes</td>\n",
       "      <td>No</td>\n",
       "      <td>Yes</td>\n",
       "      <td>No</td>\n",
       "      <td>No</td>\n",
       "      <td>No</td>\n",
       "      <td>No</td>\n",
       "      <td>Yes</td>\n",
       "      <td>No</td>\n",
       "      <td>No</td>\n",
       "      <td>Never smoked</td>\n",
       "      <td>Never used e-cigarettes in my entire life</td>\n",
       "      <td>No</td>\n",
       "      <td>White only, Non-Hispanic</td>\n",
       "      <td>Age 80 or older</td>\n",
       "      <td>1.70</td>\n",
       "      <td>90.72</td>\n",
       "      <td>31.32</td>\n",
       "      <td>No</td>\n",
       "      <td>No</td>\n",
       "      <td>Yes</td>\n",
       "      <td>Yes</td>\n",
       "      <td>No, did not receive any tetanus shot in the pa...</td>\n",
       "      <td>No</td>\n",
       "      <td>Yes</td>\n",
       "    </tr>\n",
       "    <tr>\n",
       "      <th>4</th>\n",
       "      <td>Alabama</td>\n",
       "      <td>Female</td>\n",
       "      <td>Good</td>\n",
       "      <td>3.0</td>\n",
       "      <td>15.0</td>\n",
       "      <td>Within past year (anytime less than 12 months ...</td>\n",
       "      <td>Yes</td>\n",
       "      <td>5.0</td>\n",
       "      <td>1 to 5</td>\n",
       "      <td>No</td>\n",
       "      <td>No</td>\n",
       "      <td>No</td>\n",
       "      <td>No</td>\n",
       "      <td>No</td>\n",
       "      <td>No</td>\n",
       "      <td>No</td>\n",
       "      <td>No</td>\n",
       "      <td>Yes</td>\n",
       "      <td>No</td>\n",
       "      <td>No</td>\n",
       "      <td>No</td>\n",
       "      <td>No</td>\n",
       "      <td>No</td>\n",
       "      <td>No</td>\n",
       "      <td>No</td>\n",
       "      <td>Never smoked</td>\n",
       "      <td>Never used e-cigarettes in my entire life</td>\n",
       "      <td>No</td>\n",
       "      <td>White only, Non-Hispanic</td>\n",
       "      <td>Age 80 or older</td>\n",
       "      <td>1.55</td>\n",
       "      <td>79.38</td>\n",
       "      <td>33.07</td>\n",
       "      <td>No</td>\n",
       "      <td>No</td>\n",
       "      <td>Yes</td>\n",
       "      <td>Yes</td>\n",
       "      <td>No, did not receive any tetanus shot in the pa...</td>\n",
       "      <td>No</td>\n",
       "      <td>No</td>\n",
       "    </tr>\n",
       "  </tbody>\n",
       "</table>\n",
       "</div>"
      ],
      "text/plain": [
       "     State     Sex GeneralHealth  PhysicalHealthDays  MentalHealthDays  \\\n",
       "0  Alabama  Female     Very good                 4.0               0.0   \n",
       "1  Alabama    Male     Very good                 0.0               0.0   \n",
       "2  Alabama    Male     Very good                 0.0               0.0   \n",
       "3  Alabama  Female          Fair                 5.0               0.0   \n",
       "4  Alabama  Female          Good                 3.0              15.0   \n",
       "\n",
       "                                     LastCheckupTime PhysicalActivities  \\\n",
       "0  Within past year (anytime less than 12 months ...                Yes   \n",
       "1  Within past year (anytime less than 12 months ...                Yes   \n",
       "2  Within past year (anytime less than 12 months ...                 No   \n",
       "3  Within past year (anytime less than 12 months ...                Yes   \n",
       "4  Within past year (anytime less than 12 months ...                Yes   \n",
       "\n",
       "   SleepHours            RemovedTeeth HadHeartAttack HadAngina HadStroke  \\\n",
       "0         9.0            None of them             No        No        No   \n",
       "1         6.0            None of them             No        No        No   \n",
       "2         8.0  6 or more, but not all             No        No        No   \n",
       "3         9.0            None of them             No        No        No   \n",
       "4         5.0                  1 to 5             No        No        No   \n",
       "\n",
       "  HadAsthma HadSkinCancer HadCOPD HadDepressiveDisorder HadKidneyDisease  \\\n",
       "0        No            No      No                    No               No   \n",
       "1        No            No      No                    No               No   \n",
       "2        No            No      No                    No               No   \n",
       "3        No           Yes      No                   Yes               No   \n",
       "4        No            No      No                    No               No   \n",
       "\n",
       "  HadArthritis HadDiabetes DeafOrHardOfHearing BlindOrVisionDifficulty  \\\n",
       "0          Yes          No                  No                      No   \n",
       "1          Yes         Yes                  No                      No   \n",
       "2          Yes          No                  No                     Yes   \n",
       "3          Yes          No                  No                      No   \n",
       "4          Yes          No                  No                      No   \n",
       "\n",
       "  DifficultyConcentrating DifficultyWalking DifficultyDressingBathing  \\\n",
       "0                      No                No                        No   \n",
       "1                      No                No                        No   \n",
       "2                      No               Yes                        No   \n",
       "3                      No               Yes                        No   \n",
       "4                      No                No                        No   \n",
       "\n",
       "  DifficultyErrands   SmokerStatus                            ECigaretteUsage  \\\n",
       "0                No  Former smoker  Never used e-cigarettes in my entire life   \n",
       "1                No  Former smoker  Never used e-cigarettes in my entire life   \n",
       "2                No  Former smoker  Never used e-cigarettes in my entire life   \n",
       "3                No   Never smoked  Never used e-cigarettes in my entire life   \n",
       "4                No   Never smoked  Never used e-cigarettes in my entire life   \n",
       "\n",
       "  ChestScan     RaceEthnicityCategory      AgeCategory  HeightInMeters  \\\n",
       "0        No  White only, Non-Hispanic     Age 65 to 69            1.60   \n",
       "1        No  White only, Non-Hispanic     Age 70 to 74            1.78   \n",
       "2       Yes  White only, Non-Hispanic     Age 75 to 79            1.85   \n",
       "3        No  White only, Non-Hispanic  Age 80 or older            1.70   \n",
       "4        No  White only, Non-Hispanic  Age 80 or older            1.55   \n",
       "\n",
       "   WeightInKilograms    BMI AlcoholDrinkers HIVTesting FluVaxLast12  \\\n",
       "0              71.67  27.99              No         No          Yes   \n",
       "1              95.25  30.13              No         No          Yes   \n",
       "2             108.86  31.66             Yes         No           No   \n",
       "3              90.72  31.32              No         No          Yes   \n",
       "4              79.38  33.07              No         No          Yes   \n",
       "\n",
       "  PneumoVaxEver                                  TetanusLast10Tdap  \\\n",
       "0           Yes                                 Yes, received Tdap   \n",
       "1           Yes  Yes, received tetanus shot but not sure what type   \n",
       "2           Yes  No, did not receive any tetanus shot in the pa...   \n",
       "3           Yes  No, did not receive any tetanus shot in the pa...   \n",
       "4           Yes  No, did not receive any tetanus shot in the pa...   \n",
       "\n",
       "  HighRiskLastYear CovidPos  \n",
       "0               No       No  \n",
       "1               No       No  \n",
       "2               No      Yes  \n",
       "3               No      Yes  \n",
       "4               No       No  "
      ]
     },
     "execution_count": 6,
     "metadata": {},
     "output_type": "execute_result"
    }
   ],
   "source": [
    "\n",
    "# Define que pandas deve exibir todas as colunas\n",
    "pd.set_option('display.max_columns', None)  \n",
    "\n",
    "# Abrir o dataset\n",
    "print(f\"Abrindo base de dados em {FULL_FILE_PATH}\")\n",
    "heart_data_original = pd.read_csv(FULL_FILE_PATH, encoding='unicode_escape')\n",
    "heart_data_original.head()  # Visualizando as primeiras linhas"
   ]
  },
  {
   "cell_type": "markdown",
   "metadata": {},
   "source": [
    "## Visualização inicial dos dados"
   ]
  },
  {
   "cell_type": "markdown",
   "metadata": {},
   "source": [
    "Em seguida, podemos extrair algumas informações das colunas da nossa base."
   ]
  },
  {
   "cell_type": "code",
   "execution_count": 7,
   "metadata": {},
   "outputs": [
    {
     "name": "stdout",
     "output_type": "stream",
     "text": [
      "<class 'pandas.core.frame.DataFrame'>\n",
      "RangeIndex: 246022 entries, 0 to 246021\n",
      "Data columns (total 40 columns):\n",
      " #   Column                     Non-Null Count   Dtype  \n",
      "---  ------                     --------------   -----  \n",
      " 0   State                      246022 non-null  object \n",
      " 1   Sex                        246022 non-null  object \n",
      " 2   GeneralHealth              246022 non-null  object \n",
      " 3   PhysicalHealthDays         246022 non-null  float64\n",
      " 4   MentalHealthDays           246022 non-null  float64\n",
      " 5   LastCheckupTime            246022 non-null  object \n",
      " 6   PhysicalActivities         246022 non-null  object \n",
      " 7   SleepHours                 246022 non-null  float64\n",
      " 8   RemovedTeeth               246022 non-null  object \n",
      " 9   HadHeartAttack             246022 non-null  object \n",
      " 10  HadAngina                  246022 non-null  object \n",
      " 11  HadStroke                  246022 non-null  object \n",
      " 12  HadAsthma                  246022 non-null  object \n",
      " 13  HadSkinCancer              246022 non-null  object \n",
      " 14  HadCOPD                    246022 non-null  object \n",
      " 15  HadDepressiveDisorder      246022 non-null  object \n",
      " 16  HadKidneyDisease           246022 non-null  object \n",
      " 17  HadArthritis               246022 non-null  object \n",
      " 18  HadDiabetes                246022 non-null  object \n",
      " 19  DeafOrHardOfHearing        246022 non-null  object \n",
      " 20  BlindOrVisionDifficulty    246022 non-null  object \n",
      " 21  DifficultyConcentrating    246022 non-null  object \n",
      " 22  DifficultyWalking          246022 non-null  object \n",
      " 23  DifficultyDressingBathing  246022 non-null  object \n",
      " 24  DifficultyErrands          246022 non-null  object \n",
      " 25  SmokerStatus               246022 non-null  object \n",
      " 26  ECigaretteUsage            246022 non-null  object \n",
      " 27  ChestScan                  246022 non-null  object \n",
      " 28  RaceEthnicityCategory      246022 non-null  object \n",
      " 29  AgeCategory                246022 non-null  object \n",
      " 30  HeightInMeters             246022 non-null  float64\n",
      " 31  WeightInKilograms          246022 non-null  float64\n",
      " 32  BMI                        246022 non-null  float64\n",
      " 33  AlcoholDrinkers            246022 non-null  object \n",
      " 34  HIVTesting                 246022 non-null  object \n",
      " 35  FluVaxLast12               246022 non-null  object \n",
      " 36  PneumoVaxEver              246022 non-null  object \n",
      " 37  TetanusLast10Tdap          246022 non-null  object \n",
      " 38  HighRiskLastYear           246022 non-null  object \n",
      " 39  CovidPos                   246022 non-null  object \n",
      "dtypes: float64(6), object(34)\n",
      "memory usage: 75.1+ MB\n"
     ]
    }
   ],
   "source": [
    "heart_data_original.info()  # coletando informações das colunas"
   ]
  },
  {
   "cell_type": "markdown",
   "metadata": {},
   "source": [
    "Ao todo, existem 40 atributos no dataset, sendo 6 deles de tipos numéricos (indicados com float64). São eles:\n",
    "- PhysicalHealthDays\n",
    "- MentalHealthDays\n",
    "- SleepHours\n",
    "- HeightInMeters\n",
    "- WeightInKilograms\n",
    "- BMI\n",
    "\n",
    "A descrição de cada atributo, [de acordo com a pesquisa feita pelo CDC](https://www.cdc.gov/brfss/annual_data/annual_2022.html), pode ser encontrada na tabela a seguir.\n",
    "\n",
    "| Atributo                  | Descrição |\n",
    "|:-------------------------:|:--------------------------------------------------------------------------------------------------------------------- |\n",
    "| State                     | Estado (dos EUA) em que reside                                                                                        |\n",
    "| Sex                       | Sexo biológico                                                                                                        |\n",
    "| GeneralHealth             | Como a pessoa classifica sua saúde geral                                                                              |\n",
    "| PhysicalHealthDays        | Por quantos dias dentre os 30 dias anteriores a saúde física da pessoa NÃO esteve boa                                  |\n",
    "| MentalHealthDays          | Por quantos dias dentre os 30 dias anteriores a saúde mental da pessoa NÃO esteve boa                                  |\n",
    "| LastCheckupTime           | Quando foi a última visita a um médico para checagem                                                                  |\n",
    "| PhysicalActivities        | Se a pessoa praticou alguma atividade física nos 30 dias anteriores                                                   |\n",
    "| SleepHours                | Tempo médio de sono                                                                                                   |\n",
    "| RemovedTeeth              | Quantas vezes um dente permanente da pessoa teve de ser retirado por problemas dentários                              |\n",
    "| HadHeartAttack            | Se já teve um infarto do miocárdio                                                                                    |\n",
    "| HadAngina                 | Se já teve angina ou doença arterial coronariana (DAC)                                                                |\n",
    "| HadStroke                 | Se já teve um acidente vascular cerebral (AVC)                                                                        |\n",
    "| HadAsthma                 | Se já teve asma                                                                                                       |\n",
    "| HadSkinCancer             | Se já teve câncer de pele que não fosse um melanoma                                                                   |\n",
    "| HadCOPD                   | Se já teve doença pulmonar obstrutiva crônica (DPOC) ou bronquite crônica                                             |\n",
    "| HadDepressiveDisorder     | Se já teve distúrbio depressivo                                                                                       |\n",
    "| HadKidneyDisease          | Se já teve doença nos rins que não fosse pedras nos rins, incontingência urinária ou infeccção urinária               |\n",
    "| HadArthritis              | Se já teve algum tipo de artrite                                                                                      |\n",
    "| HadDiabetes               | Se já teve diabetes                                                                                                   |\n",
    "| DeafOrHardOfHearing       | Se possui surdez ou alguma dificuldade auditiva                                                                       |\n",
    "| BlindOrVisionDifficulty   | Se possui cegueira ou alguma dificuldade em enxergar (mesmo com óculos)                                               |\n",
    "| DifficultyConcentrating   | Se possui alguma dificuldade de concentração ou memória                                                               |\n",
    "| DifficultyWalking         | Se possui alguma dificuldade ao andar ou subir escadas                                                                |\n",
    "| DifficultyDressingBathing | Se possui alguma dificuldade ao se vestir ou se banhar                                                                |\n",
    "| DifficultyErrands         | Se possui alguma dificuldade em realizar tarefas cotidianas em virtude de alguma condição física, mental ou emocional |\n",
    "| SmokerStatus              | Uso de cigarro comum                                                                                                  |\n",
    "| ECigaretteUsage           | Uso de cigarro eletrônico                                                                                             |\n",
    "| ChestScan                 | Se já fez alguma tomografia computadorizada da região do peito                                                        |\n",
    "| RaceEthnicityCategory     | Raça/etnia autodeclarada                                                                                              |\n",
    "| AgeCategory               | Idade (discretizada em categorias)                                                                                    |\n",
    "| HeightInMeters            | Altura em metros                                                                                                      |\n",
    "| WeightInKilograms         | Massa corporal em quilogramas                                                                                         |\n",
    "| BMI                       | Índice de Massa Corporal (IMC)                                                                                        |\n",
    "| AlcoholDrinkers           | Se consome bebidas alcoólicas regularmente                                                                            |\n",
    "| HIVTesting                | Se alguma vez já fez teste para HIV                                                                                 |\n",
    "| FluVaxLast12              | Se foi vacinado contra a gripe nos últimos 12 meses                                                                   |\n",
    "| PneumoVaxEver             | Se alguma vez já foi vacinado contra pneumonia                                                                        |\n",
    "| TetanusLast10Tdap         | Se foi vacinado contra tétano nos últimos 10 anos                                                                     |\n",
    "| HighRiskLastYear          | Se a pessoa se envolveu em alguma das situações de alto risco a seguir no ano anterior: drogas ilícitas injetáveis; tratamento para alguma DST; pagamento ou recebimento de dinheiro ou droga em troca de favores sexuais.                                                         |\n",
    "| CovidPos                  | Se já testou positivo para COVID-19                                                                                   |"
   ]
  },
  {
   "cell_type": "markdown",
   "metadata": {},
   "source": [
    "# Pré-processamento"
   ]
  },
  {
   "cell_type": "markdown",
   "metadata": {},
   "source": [
    "Nesta seção, realizamos o pré-processamento dos dados do dataset. É possível destacar as atividades de remoção de colunas irrelevantes, ajustes em variáveis categóricas, e criação de novas colunas derivadas de outras já existentes. Antes de mais nada, porém, criemos uma cópia separado do Dataframe original para aplicar o pré-processamento, a fim de se manter o original para eventuais comparações."
   ]
  },
  {
   "cell_type": "code",
   "execution_count": 8,
   "metadata": {},
   "outputs": [],
   "source": [
    "heart_data = heart_data_original.copy()  # copiando o dataset para outro objeto"
   ]
  },
  {
   "cell_type": "markdown",
   "metadata": {},
   "source": [
    "### Checagem e remoção dos nulos"
   ]
  },
  {
   "cell_type": "markdown",
   "metadata": {},
   "source": [
    "Como o dataset já havia recebido um pré-tratamento inicial pelo divulgador, não há colunas nulas no dataset. "
   ]
  },
  {
   "cell_type": "code",
   "execution_count": 9,
   "metadata": {},
   "outputs": [
    {
     "data": {
      "text/plain": [
       "False"
      ]
     },
     "execution_count": 9,
     "metadata": {},
     "output_type": "execute_result"
    }
   ],
   "source": [
    "heart_data.isna().values.any()"
   ]
  },
  {
   "cell_type": "markdown",
   "metadata": {},
   "source": [
    "Logo, é possível pular a etapa de remoção das amostras com atributos nulos."
   ]
  },
  {
   "cell_type": "markdown",
   "metadata": {},
   "source": [
    "### Ajuste de variáveis"
   ]
  },
  {
   "cell_type": "markdown",
   "metadata": {},
   "source": [
    "A seguir, realizamos a conversão de algumas variáveis para simplificar as classes de alguns atributos, reduzindo seu número e complexidade para o modelo ou simplesmente facilitando o entendimento humano."
   ]
  },
  {
   "cell_type": "code",
   "execution_count": 10,
   "metadata": {},
   "outputs": [
    {
     "data": {
      "text/plain": [
       "array(['No', 'Yes', 'During Pregnancy', 'Borderline'], dtype=object)"
      ]
     },
     "execution_count": 10,
     "metadata": {},
     "output_type": "execute_result"
    }
   ],
   "source": [
    "# DIABETES: SOMENTE SIM, NÃO, BORDERLINE OU DURANTE GRAVIDEZ\n",
    "heart_data['HadDiabetes'] = heart_data['HadDiabetes'].replace(\n",
    "    {\n",
    "        'No, pre-diabetes or borderline diabetes': 'Borderline', \n",
    "        'Yes, but only during pregnancy (female)': 'During Pregnancy'\n",
    "    }\n",
    ")\n",
    "heart_data['HadDiabetes'].unique()"
   ]
  },
  {
   "cell_type": "code",
   "execution_count": 11,
   "metadata": {},
   "outputs": [
    {
     "data": {
      "text/plain": [
       "array(['Former smoker', 'Never', 'Everyday', 'Some days'], dtype=object)"
      ]
     },
     "execution_count": 11,
     "metadata": {},
     "output_type": "execute_result"
    }
   ],
   "source": [
    "# SMOKER: NEVER, FORMER SMOKER, SOME DAYS, EVERY DAY\n",
    "heart_data['SmokerStatus'] = heart_data['SmokerStatus'].replace(\n",
    "    {\n",
    "        'Current smoker - now smokes some days': 'Some days', \n",
    "        'Current smoker - now smokes every day': 'Everyday',\n",
    "        'Never smoked': 'Never'\n",
    "    }\n",
    ")\n",
    "heart_data['SmokerStatus'].unique()"
   ]
  },
  {
   "cell_type": "code",
   "execution_count": 12,
   "metadata": {},
   "outputs": [
    {
     "data": {
      "text/plain": [
       "array(['Never', 'Some days', 'Former smoker', 'Everyday'], dtype=object)"
      ]
     },
     "execution_count": 12,
     "metadata": {},
     "output_type": "execute_result"
    }
   ],
   "source": [
    "# E-CIGARETTE: NOT ANYMORE, NEVER, EVERYDAY, SOMEDAYS\n",
    "heart_data['ECigaretteUsage'] = heart_data['ECigaretteUsage'].replace(\n",
    "    {\n",
    "        'Never used e-cigarettes in my entire life': 'Never', \n",
    "        'Not at all (right now)': 'Former smoker', \n",
    "        'Use them some days': 'Some days',\n",
    "        'Use them every day': 'Everyday',\n",
    "    }\n",
    ")\n",
    "heart_data['ECigaretteUsage'].unique()"
   ]
  },
  {
   "cell_type": "code",
   "execution_count": 13,
   "metadata": {},
   "outputs": [
    {
     "data": {
      "text/plain": [
       "array(['No', 'Yes'], dtype=object)"
      ]
     },
     "execution_count": 13,
     "metadata": {},
     "output_type": "execute_result"
    }
   ],
   "source": [
    "# COVID: SOMENTE SIM OU NÃO\n",
    "heart_data['CovidPos'] = heart_data['CovidPos'].replace(\n",
    "    {\n",
    "        'Tested positive using home test without a health professional': 'Yes'\n",
    "    }\n",
    ")\n",
    "heart_data['CovidPos'].unique()"
   ]
  },
  {
   "cell_type": "code",
   "execution_count": 14,
   "metadata": {},
   "outputs": [
    {
     "data": {
      "text/plain": [
       "array(['65-69', '70-74', '75-79', '80+', '50-54', '40-44', '60-64',\n",
       "       '55-59', '45-49', '35-39', '25-29', '30-34', '18-24'], dtype=object)"
      ]
     },
     "execution_count": 14,
     "metadata": {},
     "output_type": "execute_result"
    }
   ],
   "source": [
    "# FAIXA ETÁRIA: SIMPLIFICAÇÃO DAS VARIÁVEIS EM XX-XX ou 80+\n",
    "heart_data['AgeCategory'] = heart_data['AgeCategory'].replace(\n",
    "    {\n",
    "        'Age 80 or older': '80+'\n",
    "    }\n",
    ")\n",
    "for value in heart_data['AgeCategory'].unique():\n",
    "    value = str(value)\n",
    "    if value != 'nan' and value != '80+':\n",
    "        cat_value = value.split(\" \")\n",
    "        heart_data['AgeCategory'] = heart_data['AgeCategory'].replace(\n",
    "            {\n",
    "                value: cat_value[1] + \"-\" + cat_value[3]\n",
    "            }\n",
    "        )\n",
    "heart_data['AgeCategory'].unique()"
   ]
  },
  {
   "cell_type": "code",
   "execution_count": 15,
   "metadata": {},
   "outputs": [
    {
     "data": {
      "text/plain": [
       "array(['White', 'Black', 'Other Race', 'Multi Racial', 'Hispanic'],\n",
       "      dtype=object)"
      ]
     },
     "execution_count": 15,
     "metadata": {},
     "output_type": "execute_result"
    }
   ],
   "source": [
    "# Raça/Etnia reduzida a 4 opções\n",
    "heart_data['RaceEthnicityCategory'] = heart_data['RaceEthnicityCategory'].replace(\n",
    "    {\n",
    "        'White only, Non-Hispanic': 'White',\n",
    "        'Black only, Non-Hispanic': 'Black', \n",
    "        'Other race only, Non-Hispanic': 'Other Race', \n",
    "        'Multiracial, Non-Hispanic': 'Multi Racial'\n",
    "    }\n",
    ")\n",
    "heart_data['RaceEthnicityCategory'].unique()"
   ]
  },
  {
   "cell_type": "markdown",
   "metadata": {},
   "source": [
    "### Ajuste de colunas"
   ]
  },
  {
   "cell_type": "markdown",
   "metadata": {},
   "source": [
    "Algumas colunas contidas no dataset são irrelevantes para a pergunta que se deseja responder e podem acabar impactando negativamente na acurácia do modelo, tornando-o parcial para alguma classe. A fim de se evitar esse problema, algumas podem ser removidas."
   ]
  },
  {
   "cell_type": "code",
   "execution_count": 16,
   "metadata": {},
   "outputs": [
    {
     "data": {
      "text/html": [
       "<div>\n",
       "<style scoped>\n",
       "    .dataframe tbody tr th:only-of-type {\n",
       "        vertical-align: middle;\n",
       "    }\n",
       "\n",
       "    .dataframe tbody tr th {\n",
       "        vertical-align: top;\n",
       "    }\n",
       "\n",
       "    .dataframe thead th {\n",
       "        text-align: right;\n",
       "    }\n",
       "</style>\n",
       "<table border=\"1\" class=\"dataframe\">\n",
       "  <thead>\n",
       "    <tr style=\"text-align: right;\">\n",
       "      <th></th>\n",
       "      <th>Sex</th>\n",
       "      <th>GeneralHealth</th>\n",
       "      <th>PhysicalHealthDays</th>\n",
       "      <th>MentalHealthDays</th>\n",
       "      <th>PhysicalActivities</th>\n",
       "      <th>SleepHours</th>\n",
       "      <th>HadHeartAttack</th>\n",
       "      <th>HadAngina</th>\n",
       "      <th>HadStroke</th>\n",
       "      <th>HadAsthma</th>\n",
       "      <th>HadSkinCancer</th>\n",
       "      <th>HadCOPD</th>\n",
       "      <th>HadDepressiveDisorder</th>\n",
       "      <th>HadKidneyDisease</th>\n",
       "      <th>HadArthritis</th>\n",
       "      <th>HadDiabetes</th>\n",
       "      <th>DeafOrHardOfHearing</th>\n",
       "      <th>BlindOrVisionDifficulty</th>\n",
       "      <th>DifficultyConcentrating</th>\n",
       "      <th>DifficultyWalking</th>\n",
       "      <th>DifficultyDressingBathing</th>\n",
       "      <th>DifficultyErrands</th>\n",
       "      <th>SmokerStatus</th>\n",
       "      <th>ECigaretteUsage</th>\n",
       "      <th>RaceEthnicityCategory</th>\n",
       "      <th>AgeCategory</th>\n",
       "      <th>BMI</th>\n",
       "      <th>AlcoholDrinkers</th>\n",
       "      <th>HighRiskLastYear</th>\n",
       "      <th>CovidPos</th>\n",
       "    </tr>\n",
       "  </thead>\n",
       "  <tbody>\n",
       "    <tr>\n",
       "      <th>0</th>\n",
       "      <td>Female</td>\n",
       "      <td>Very good</td>\n",
       "      <td>4.0</td>\n",
       "      <td>0.0</td>\n",
       "      <td>Yes</td>\n",
       "      <td>9.0</td>\n",
       "      <td>No</td>\n",
       "      <td>No</td>\n",
       "      <td>No</td>\n",
       "      <td>No</td>\n",
       "      <td>No</td>\n",
       "      <td>No</td>\n",
       "      <td>No</td>\n",
       "      <td>No</td>\n",
       "      <td>Yes</td>\n",
       "      <td>No</td>\n",
       "      <td>No</td>\n",
       "      <td>No</td>\n",
       "      <td>No</td>\n",
       "      <td>No</td>\n",
       "      <td>No</td>\n",
       "      <td>No</td>\n",
       "      <td>Former smoker</td>\n",
       "      <td>Never</td>\n",
       "      <td>White</td>\n",
       "      <td>65-69</td>\n",
       "      <td>27.99</td>\n",
       "      <td>No</td>\n",
       "      <td>No</td>\n",
       "      <td>No</td>\n",
       "    </tr>\n",
       "    <tr>\n",
       "      <th>1</th>\n",
       "      <td>Male</td>\n",
       "      <td>Very good</td>\n",
       "      <td>0.0</td>\n",
       "      <td>0.0</td>\n",
       "      <td>Yes</td>\n",
       "      <td>6.0</td>\n",
       "      <td>No</td>\n",
       "      <td>No</td>\n",
       "      <td>No</td>\n",
       "      <td>No</td>\n",
       "      <td>No</td>\n",
       "      <td>No</td>\n",
       "      <td>No</td>\n",
       "      <td>No</td>\n",
       "      <td>Yes</td>\n",
       "      <td>Yes</td>\n",
       "      <td>No</td>\n",
       "      <td>No</td>\n",
       "      <td>No</td>\n",
       "      <td>No</td>\n",
       "      <td>No</td>\n",
       "      <td>No</td>\n",
       "      <td>Former smoker</td>\n",
       "      <td>Never</td>\n",
       "      <td>White</td>\n",
       "      <td>70-74</td>\n",
       "      <td>30.13</td>\n",
       "      <td>No</td>\n",
       "      <td>No</td>\n",
       "      <td>No</td>\n",
       "    </tr>\n",
       "    <tr>\n",
       "      <th>2</th>\n",
       "      <td>Male</td>\n",
       "      <td>Very good</td>\n",
       "      <td>0.0</td>\n",
       "      <td>0.0</td>\n",
       "      <td>No</td>\n",
       "      <td>8.0</td>\n",
       "      <td>No</td>\n",
       "      <td>No</td>\n",
       "      <td>No</td>\n",
       "      <td>No</td>\n",
       "      <td>No</td>\n",
       "      <td>No</td>\n",
       "      <td>No</td>\n",
       "      <td>No</td>\n",
       "      <td>Yes</td>\n",
       "      <td>No</td>\n",
       "      <td>No</td>\n",
       "      <td>Yes</td>\n",
       "      <td>No</td>\n",
       "      <td>Yes</td>\n",
       "      <td>No</td>\n",
       "      <td>No</td>\n",
       "      <td>Former smoker</td>\n",
       "      <td>Never</td>\n",
       "      <td>White</td>\n",
       "      <td>75-79</td>\n",
       "      <td>31.66</td>\n",
       "      <td>Yes</td>\n",
       "      <td>No</td>\n",
       "      <td>Yes</td>\n",
       "    </tr>\n",
       "    <tr>\n",
       "      <th>3</th>\n",
       "      <td>Female</td>\n",
       "      <td>Fair</td>\n",
       "      <td>5.0</td>\n",
       "      <td>0.0</td>\n",
       "      <td>Yes</td>\n",
       "      <td>9.0</td>\n",
       "      <td>No</td>\n",
       "      <td>No</td>\n",
       "      <td>No</td>\n",
       "      <td>No</td>\n",
       "      <td>Yes</td>\n",
       "      <td>No</td>\n",
       "      <td>Yes</td>\n",
       "      <td>No</td>\n",
       "      <td>Yes</td>\n",
       "      <td>No</td>\n",
       "      <td>No</td>\n",
       "      <td>No</td>\n",
       "      <td>No</td>\n",
       "      <td>Yes</td>\n",
       "      <td>No</td>\n",
       "      <td>No</td>\n",
       "      <td>Never</td>\n",
       "      <td>Never</td>\n",
       "      <td>White</td>\n",
       "      <td>80+</td>\n",
       "      <td>31.32</td>\n",
       "      <td>No</td>\n",
       "      <td>No</td>\n",
       "      <td>Yes</td>\n",
       "    </tr>\n",
       "    <tr>\n",
       "      <th>4</th>\n",
       "      <td>Female</td>\n",
       "      <td>Good</td>\n",
       "      <td>3.0</td>\n",
       "      <td>15.0</td>\n",
       "      <td>Yes</td>\n",
       "      <td>5.0</td>\n",
       "      <td>No</td>\n",
       "      <td>No</td>\n",
       "      <td>No</td>\n",
       "      <td>No</td>\n",
       "      <td>No</td>\n",
       "      <td>No</td>\n",
       "      <td>No</td>\n",
       "      <td>No</td>\n",
       "      <td>Yes</td>\n",
       "      <td>No</td>\n",
       "      <td>No</td>\n",
       "      <td>No</td>\n",
       "      <td>No</td>\n",
       "      <td>No</td>\n",
       "      <td>No</td>\n",
       "      <td>No</td>\n",
       "      <td>Never</td>\n",
       "      <td>Never</td>\n",
       "      <td>White</td>\n",
       "      <td>80+</td>\n",
       "      <td>33.07</td>\n",
       "      <td>No</td>\n",
       "      <td>No</td>\n",
       "      <td>No</td>\n",
       "    </tr>\n",
       "  </tbody>\n",
       "</table>\n",
       "</div>"
      ],
      "text/plain": [
       "      Sex GeneralHealth  PhysicalHealthDays  MentalHealthDays  \\\n",
       "0  Female     Very good                 4.0               0.0   \n",
       "1    Male     Very good                 0.0               0.0   \n",
       "2    Male     Very good                 0.0               0.0   \n",
       "3  Female          Fair                 5.0               0.0   \n",
       "4  Female          Good                 3.0              15.0   \n",
       "\n",
       "  PhysicalActivities  SleepHours HadHeartAttack HadAngina HadStroke HadAsthma  \\\n",
       "0                Yes         9.0             No        No        No        No   \n",
       "1                Yes         6.0             No        No        No        No   \n",
       "2                 No         8.0             No        No        No        No   \n",
       "3                Yes         9.0             No        No        No        No   \n",
       "4                Yes         5.0             No        No        No        No   \n",
       "\n",
       "  HadSkinCancer HadCOPD HadDepressiveDisorder HadKidneyDisease HadArthritis  \\\n",
       "0            No      No                    No               No          Yes   \n",
       "1            No      No                    No               No          Yes   \n",
       "2            No      No                    No               No          Yes   \n",
       "3           Yes      No                   Yes               No          Yes   \n",
       "4            No      No                    No               No          Yes   \n",
       "\n",
       "  HadDiabetes DeafOrHardOfHearing BlindOrVisionDifficulty  \\\n",
       "0          No                  No                      No   \n",
       "1         Yes                  No                      No   \n",
       "2          No                  No                     Yes   \n",
       "3          No                  No                      No   \n",
       "4          No                  No                      No   \n",
       "\n",
       "  DifficultyConcentrating DifficultyWalking DifficultyDressingBathing  \\\n",
       "0                      No                No                        No   \n",
       "1                      No                No                        No   \n",
       "2                      No               Yes                        No   \n",
       "3                      No               Yes                        No   \n",
       "4                      No                No                        No   \n",
       "\n",
       "  DifficultyErrands   SmokerStatus ECigaretteUsage RaceEthnicityCategory  \\\n",
       "0                No  Former smoker           Never                 White   \n",
       "1                No  Former smoker           Never                 White   \n",
       "2                No  Former smoker           Never                 White   \n",
       "3                No          Never           Never                 White   \n",
       "4                No          Never           Never                 White   \n",
       "\n",
       "  AgeCategory    BMI AlcoholDrinkers HighRiskLastYear CovidPos  \n",
       "0       65-69  27.99              No               No       No  \n",
       "1       70-74  30.13              No               No       No  \n",
       "2       75-79  31.66             Yes               No      Yes  \n",
       "3         80+  31.32              No               No      Yes  \n",
       "4         80+  33.07              No               No       No  "
      ]
     },
     "execution_count": 16,
     "metadata": {},
     "output_type": "execute_result"
    }
   ],
   "source": [
    "heart_data = heart_data.drop(\n",
    "    columns=[\n",
    "        'State',\n",
    "        'RemovedTeeth',\n",
    "        'LastCheckupTime',\n",
    "        'ChestScan',\n",
    "        'HIVTesting',\n",
    "        'FluVaxLast12',\n",
    "        'PneumoVaxEver', \n",
    "        'TetanusLast10Tdap',\n",
    "        'HeightInMeters',\n",
    "        'WeightInKilograms',\n",
    "    ]\n",
    ")\n",
    "heart_data.head()"
   ]
  },
  {
   "cell_type": "markdown",
   "metadata": {},
   "source": [
    "Eis a justificativa de cada uma delas\n",
    "\n",
    "- **State**: A localização geográfica (estado) pode ter uma correlação indireta com doenças cardíacas devido a fatores como acesso a cuidados de saúde, prevalência de certos estilos de vida e condições socioeconômicas. No entanto, é um indicador muito genérico e pode introduzir viés se não for combinado com dados mais específicos sobre o estilo de vida ou condições socioeconômicas individuais.\n",
    "\n",
    "- **RemovedTeeth**: A perda de dentes pode indicar problemas de saúde bucal passados ou presentes, que têm sido associados a doenças cardíacas em alguns estudos. No entanto, essa relação é complexa e pode ser influenciada por muitos outros fatores, tornando-a uma variável menos direta para prever doenças cardíacas.\n",
    "\n",
    "- **LastCheckupTime**: O tempo desde o último check-up pode indicar a frequência com que uma pessoa procura cuidados preventivos de saúde, o que pode ter uma relação com o risco de doenças cardíacas. No entanto, essa variável por si só não fornece informações sobre a condição de saúde atual ou histórico médico específico.\n",
    "\n",
    "- **ChestScan**: Exames de imagem do tórax podem detectar condições que indicam risco de doença cardíaca, mas a presença dessa variável no conjunto de dados não indica os resultados desses exames, apenas se foram realizados ou não, o que por si só é insuficiente para avaliar o risco de doença cardíaca.\n",
    "\n",
    "- **HIVTesting**: O teste de HIV pode ser relevante para a saúde geral, mas não tem uma relação direta com doenças cardíacas. A menos que o resultado do teste e informações sobre a condição de saúde relacionada ao HIV estejam disponíveis, essa variável por si só não contribui diretamente para a previsão de doenças cardíacas.\n",
    "\n",
    "- **FluVaxLast12**: A vacinação contra a gripe tem sido associada a um menor risco de eventos cardiovasculares em algumas pesquisas, mas essa relação pode não ser direta e é influenciada por muitos outros fatores, tornando-a uma variável menos específica para prever doenças cardíacas.\n",
    "\n",
    "- **PneumoVaxEver**: Semelhante à vacinação contra a gripe, a vacinação contra pneumonia pode ter um impacto indireto na saúde cardíaca, mas a relação não é direta e pode ser confundida por outros fatores, como condições de saúde subjacentes que levam à recomendação da vacina.\n",
    "\n",
    "- **TetanusLast10Tdap**: A vacinação contra tétano, difteria e coqueluche (Tdap) é importante para a saúde geral, mas não tem uma relação direta com o risco de doenças cardíacas, tornando-a menos relevante para este contexto específico.\n",
    "\n",
    "- **HeightInMeters** e **WeightInKilograms**: Por ser calculado em função da altura e do peso, o IMC já resume bem esses dados e mantê-los seria uma redundância."
   ]
  },
  {
   "cell_type": "markdown",
   "metadata": {},
   "source": [
    "Além disso, podemos derivar uma nova coluna **SmokingHabit** que resume as colunas **SmokerStatus** e **ECigaretteUsage**, de forma que uma pessoa é considerada fumante se fuma qualquer cigarro, seja cigarro normal ou eletrônico."
   ]
  },
  {
   "cell_type": "code",
   "execution_count": 17,
   "metadata": {},
   "outputs": [],
   "source": [
    "heart_data['SmokerStatus'] = heart_data['SmokerStatus'].replace(\n",
    "    {\n",
    "        'Everyday': 'Smoker',\n",
    "        'Some days': 'Smoker'\n",
    "    }\n",
    ")\n",
    "heart_data['ECigaretteUsage'] = heart_data['ECigaretteUsage'].replace(\n",
    "    {\n",
    "        'Everyday': 'Smoker',\n",
    "        'Some days': 'Smoker'\n",
    "    }\n",
    ")\n",
    "\n",
    "# Condições para definir a nova coluna 'SmokingHabit'\n",
    "conditions = [\n",
    "    (heart_data['ECigaretteUsage'] == 'Smoker') | (heart_data['SmokerStatus'] == 'Smoker'),\n",
    "    (heart_data['ECigaretteUsage'] == 'Former smoker') | (heart_data['SmokerStatus'] == 'Former smoker')\n",
    "]\n",
    "\n",
    "# Escolhas correspondentes a cada condição\n",
    "choices = [\n",
    "    'Smoker',\n",
    "    'Former smoker'\n",
    "]\n",
    "\n",
    "# Aplicando np.select para definir os valores na nova coluna 'SmokingHabit'\n",
    "# 'Never' é o valor padrão se nenhuma condição for verdadeira\n",
    "heart_data['SmokingHabit'] = np.select(conditions, choices, default='Never')\n",
    "  \n",
    "heart_data = heart_data.drop(columns=['SmokerStatus', 'ECigaretteUsage'])"
   ]
  },
  {
   "cell_type": "markdown",
   "metadata": {},
   "source": [
    "### Impressão das classes de cada variável após as tratamento"
   ]
  },
  {
   "cell_type": "code",
   "execution_count": 18,
   "metadata": {},
   "outputs": [
    {
     "name": "stdout",
     "output_type": "stream",
     "text": [
      "Column Name:  Sex\n",
      "['Female' 'Male']\n",
      "--------------------------------------------------\n",
      "Column Name:  GeneralHealth\n",
      "['Very good' 'Fair' 'Good' 'Excellent' 'Poor']\n",
      "--------------------------------------------------\n",
      "Column Name:  PhysicalActivities\n",
      "['Yes' 'No']\n",
      "--------------------------------------------------\n",
      "Column Name:  HadHeartAttack\n",
      "['No' 'Yes']\n",
      "--------------------------------------------------\n",
      "Column Name:  HadAngina\n",
      "['No' 'Yes']\n",
      "--------------------------------------------------\n",
      "Column Name:  HadStroke\n",
      "['No' 'Yes']\n",
      "--------------------------------------------------\n",
      "Column Name:  HadAsthma\n",
      "['No' 'Yes']\n",
      "--------------------------------------------------\n",
      "Column Name:  HadSkinCancer\n",
      "['No' 'Yes']\n",
      "--------------------------------------------------\n",
      "Column Name:  HadCOPD\n",
      "['No' 'Yes']\n",
      "--------------------------------------------------\n",
      "Column Name:  HadDepressiveDisorder\n",
      "['No' 'Yes']\n",
      "--------------------------------------------------\n",
      "Column Name:  HadKidneyDisease\n",
      "['No' 'Yes']\n",
      "--------------------------------------------------\n",
      "Column Name:  HadArthritis\n",
      "['Yes' 'No']\n",
      "--------------------------------------------------\n",
      "Column Name:  HadDiabetes\n",
      "['No' 'Yes' 'During Pregnancy' 'Borderline']\n",
      "--------------------------------------------------\n",
      "Column Name:  DeafOrHardOfHearing\n",
      "['No' 'Yes']\n",
      "--------------------------------------------------\n",
      "Column Name:  BlindOrVisionDifficulty\n",
      "['No' 'Yes']\n",
      "--------------------------------------------------\n",
      "Column Name:  DifficultyConcentrating\n",
      "['No' 'Yes']\n",
      "--------------------------------------------------\n",
      "Column Name:  DifficultyWalking\n",
      "['No' 'Yes']\n",
      "--------------------------------------------------\n",
      "Column Name:  DifficultyDressingBathing\n",
      "['No' 'Yes']\n",
      "--------------------------------------------------\n",
      "Column Name:  DifficultyErrands\n",
      "['No' 'Yes']\n",
      "--------------------------------------------------\n",
      "Column Name:  RaceEthnicityCategory\n",
      "['White' 'Black' 'Other Race' 'Multi Racial' 'Hispanic']\n",
      "--------------------------------------------------\n",
      "Column Name:  AgeCategory\n",
      "['65-69' '70-74' '75-79' '80+' '50-54' '40-44' '60-64' '55-59' '45-49'\n",
      " '35-39' '25-29' '30-34' '18-24']\n",
      "--------------------------------------------------\n",
      "Column Name:  AlcoholDrinkers\n",
      "['No' 'Yes']\n",
      "--------------------------------------------------\n",
      "Column Name:  HighRiskLastYear\n",
      "['No' 'Yes']\n",
      "--------------------------------------------------\n",
      "Column Name:  CovidPos\n",
      "['No' 'Yes']\n",
      "--------------------------------------------------\n",
      "Column Name:  SmokingHabit\n",
      "['Former smoker' 'Never' 'Smoker']\n",
      "--------------------------------------------------\n"
     ]
    }
   ],
   "source": [
    "# Printa as variáveis de cada classe após as simplificações\n",
    "for col in heart_data.describe(include='object').columns:\n",
    "    print('Column Name: ', col)\n",
    "    print(heart_data[col].unique())\n",
    "    print('-' * 50)"
   ]
  },
  {
   "cell_type": "markdown",
   "metadata": {},
   "source": [
    "### Remoção de Entradas Duplicadas\n",
    "\n",
    "Removemos entradas duplicadas para garantir que cada observação no dataset seja única.\n"
   ]
  },
  {
   "cell_type": "code",
   "execution_count": 19,
   "metadata": {},
   "outputs": [],
   "source": [
    "heart_data = heart_data.drop_duplicates()"
   ]
  },
  {
   "cell_type": "markdown",
   "metadata": {},
   "source": [
    "### Encoding"
   ]
  },
  {
   "cell_type": "markdown",
   "metadata": {},
   "source": [
    "#### One Hot Encoding"
   ]
  },
  {
   "cell_type": "markdown",
   "metadata": {},
   "source": [
    "Para variáveis categóricas que não possuem uma relação de ordem ou gradação entre suas classes, aplica-se o **One-Hot Encoding**, em que a variável é transformada num conjunto de novas variáveis booleanas baseadas nas suas classes."
   ]
  },
  {
   "cell_type": "code",
   "execution_count": 20,
   "metadata": {},
   "outputs": [],
   "source": [
    "\n",
    "# Cria uma instância do codificador\n",
    "one_hot_encoder = OneHotEncoder(drop=None, dtype=int)\n",
    "\n",
    "# Seleciona as colunas desejadas para aplicar o OneHotEncoding\n",
    "one_hot_columns = ['Sex', 'RaceEthnicityCategory']\n",
    "\n",
    "# Aplica o fit_transform para transformar as colunas selecionadas\n",
    "one_hot_data = one_hot_encoder.fit_transform(heart_data[one_hot_columns]).toarray()\n",
    "\n",
    "# Converte o resultado para um DataFrame\n",
    "one_hot_df = pd.DataFrame(one_hot_data, columns=one_hot_encoder.get_feature_names_out())\n",
    "\n",
    "# Remove as colunas originais do DataFrame\n",
    "heart_data = heart_data.drop(columns=one_hot_columns)\n",
    "\n",
    "# Resetando index para evitar problemas na concatenação\n",
    "heart_data.reset_index(drop=True, inplace=True)\n",
    "one_hot_df.reset_index(drop=True, inplace=True)\n",
    "\n",
    "# Junta o DataFrame original com as novas colunas codificadas\n",
    "heart_data = pd.concat([heart_data, one_hot_df], axis=1)"
   ]
  },
  {
   "cell_type": "markdown",
   "metadata": {},
   "source": [
    "#### Oridnal Encoding"
   ]
  },
  {
   "cell_type": "markdown",
   "metadata": {},
   "source": [
    "Para variáveis categóricas que possuem alguma relação de ordem e gradação entre suas classes (ou variáveis binárias que podem ser traduzidas com booleanas), aplica-se o **Ordinal Encoding**, em que a variável é traduzida pelo mapeamento de cada uma das suas categorias a um número, respeitando a ordem/gradação das categorias."
   ]
  },
  {
   "cell_type": "code",
   "execution_count": 21,
   "metadata": {},
   "outputs": [],
   "source": [
    "# ordinal_encode_columns = [\n",
    "#     'GeneralHealth', # O\n",
    "#     'PhysicalActivities', # O\n",
    "#     'HadHeartAttack', # O\n",
    "#     'HadAngina', # O\n",
    "#     'HadStroke', # O\n",
    "#     'HadAsthma', # O\n",
    "#     'HadSkinCancer', # O\n",
    "#     'HadCOPD', # O\n",
    "#     'HadDepressiveDisorder', # O\n",
    "#     'HadKidneyDisease', # O \n",
    "#     'HadArthritis', # O\n",
    "#     'HadDiabetes', # O\n",
    "#     'DeafOrHardOfHearing', # O\n",
    "#     'BlindOrVisionDifficulty', # O\n",
    "#     'DifficultyConcentrating', # O\n",
    "#     'DifficultyWalking', # O\n",
    "#     'DifficultyDressingBathing', # O \n",
    "#     'DifficultyErrands', # O\n",
    "#     'AgeCategory', # O\n",
    "#     'BMI', # O\n",
    "#     'AlcoholDrinkers', # O\n",
    "#     'HighRiskLastYear', # O\n",
    "#     'CovidPos', # O\n",
    "#     'SmokingHabit', # O\n",
    "# ]\n",
    "\n",
    "# TODO: Completar com o restante das colunas\n",
    "ordinal_encode_columns = [\n",
    "    'GeneralHealth',\n",
    "    'PhysicalActivities',\n",
    "    'HadHeartAttack',\n",
    "]\n",
    "# TODO: Completar com o restante da ordenação das respostas\n",
    "encode_order = [\n",
    "    ['Excellent', 'Very good', 'Good', 'Fair', 'Poor'],\n",
    "    ['Yes', 'No'],\n",
    "    ['No', 'Yes'],\n",
    "]\n",
    "\n",
    "ordinal_encoder = OrdinalEncoder(categories=encode_order)\n",
    "\n",
    "ordinal_encoded_data = ordinal_encoder.fit_transform(heart_data[ordinal_encode_columns])\n",
    "\n",
    "ordinal_df = pd.DataFrame(ordinal_encoded_data, columns=ordinal_encoder.get_feature_names_out())\n",
    "\n",
    "# Remove as colunas originais do DataFrame\n",
    "heart_data = heart_data.drop(columns=ordinal_encode_columns)\n",
    "\n",
    "# Resetando index para evitar problemas na concatenação\n",
    "heart_data.reset_index(drop=True, inplace=True)\n",
    "one_hot_df.reset_index(drop=True, inplace=True)\n",
    "\n",
    "# Junta o DataFrame original com as novas colunas codificadas\n",
    "heart_data = pd.concat([heart_data, one_hot_df], axis=1)"
   ]
  },
  {
   "cell_type": "markdown",
   "metadata": {},
   "source": [
    "# Matriz de Correlação\n",
    "\n",
    "Calculamos a matriz de correlação de Pearson para verificar a correlação entre as variáveis do dataset.\n"
   ]
  },
  {
   "cell_type": "code",
   "execution_count": 23,
   "metadata": {},
   "outputs": [
    {
     "ename": "ValueError",
     "evalue": "could not convert string to float: 'No'",
     "output_type": "error",
     "traceback": [
      "\u001b[1;31m---------------------------------------------------------------------------\u001b[0m",
      "\u001b[1;31mValueError\u001b[0m                                Traceback (most recent call last)",
      "Cell \u001b[1;32mIn[23], line 2\u001b[0m\n\u001b[0;32m      1\u001b[0m \u001b[38;5;66;03m# Calcular a matriz de correlação de Pearson\u001b[39;00m\n\u001b[1;32m----> 2\u001b[0m correlation_matrix \u001b[38;5;241m=\u001b[39m \u001b[43mheart_data\u001b[49m\u001b[38;5;241;43m.\u001b[39;49m\u001b[43mcorr\u001b[49m\u001b[43m(\u001b[49m\u001b[43mmethod\u001b[49m\u001b[38;5;241;43m=\u001b[39;49m\u001b[38;5;124;43m'\u001b[39;49m\u001b[38;5;124;43mpearson\u001b[39;49m\u001b[38;5;124;43m'\u001b[39;49m\u001b[43m)\u001b[49m\n\u001b[0;32m      4\u001b[0m \u001b[38;5;66;03m# Plotar a matriz de correlação como um mapa de calor\u001b[39;00m\n\u001b[0;32m      5\u001b[0m \u001b[38;5;66;03m# plt.figure(figsize=(12, 8))\u001b[39;00m\n\u001b[0;32m      6\u001b[0m \u001b[38;5;66;03m# sns.heatmap(correlation_matrix, annot=True, cmap='coolwarm', fmt=\".2f\", vmin=-1, vmax=1)\u001b[39;00m\n\u001b[0;32m      7\u001b[0m \u001b[38;5;66;03m# plt.title('Matriz de Correlação de Pearson')\u001b[39;00m\n\u001b[0;32m      8\u001b[0m \u001b[38;5;66;03m# plt.show()\u001b[39;00m\n",
      "File \u001b[1;32mc:\\Users\\masar\\Documents\\UFF\\Oitavo Semestre\\IA\\IACardio\\.venv\\Lib\\site-packages\\pandas\\core\\frame.py:11049\u001b[0m, in \u001b[0;36mDataFrame.corr\u001b[1;34m(self, method, min_periods, numeric_only)\u001b[0m\n\u001b[0;32m  11047\u001b[0m cols \u001b[38;5;241m=\u001b[39m data\u001b[38;5;241m.\u001b[39mcolumns\n\u001b[0;32m  11048\u001b[0m idx \u001b[38;5;241m=\u001b[39m cols\u001b[38;5;241m.\u001b[39mcopy()\n\u001b[1;32m> 11049\u001b[0m mat \u001b[38;5;241m=\u001b[39m \u001b[43mdata\u001b[49m\u001b[38;5;241;43m.\u001b[39;49m\u001b[43mto_numpy\u001b[49m\u001b[43m(\u001b[49m\u001b[43mdtype\u001b[49m\u001b[38;5;241;43m=\u001b[39;49m\u001b[38;5;28;43mfloat\u001b[39;49m\u001b[43m,\u001b[49m\u001b[43m \u001b[49m\u001b[43mna_value\u001b[49m\u001b[38;5;241;43m=\u001b[39;49m\u001b[43mnp\u001b[49m\u001b[38;5;241;43m.\u001b[39;49m\u001b[43mnan\u001b[49m\u001b[43m,\u001b[49m\u001b[43m \u001b[49m\u001b[43mcopy\u001b[49m\u001b[38;5;241;43m=\u001b[39;49m\u001b[38;5;28;43;01mFalse\u001b[39;49;00m\u001b[43m)\u001b[49m\n\u001b[0;32m  11051\u001b[0m \u001b[38;5;28;01mif\u001b[39;00m method \u001b[38;5;241m==\u001b[39m \u001b[38;5;124m\"\u001b[39m\u001b[38;5;124mpearson\u001b[39m\u001b[38;5;124m\"\u001b[39m:\n\u001b[0;32m  11052\u001b[0m     correl \u001b[38;5;241m=\u001b[39m libalgos\u001b[38;5;241m.\u001b[39mnancorr(mat, minp\u001b[38;5;241m=\u001b[39mmin_periods)\n",
      "File \u001b[1;32mc:\\Users\\masar\\Documents\\UFF\\Oitavo Semestre\\IA\\IACardio\\.venv\\Lib\\site-packages\\pandas\\core\\frame.py:1993\u001b[0m, in \u001b[0;36mDataFrame.to_numpy\u001b[1;34m(self, dtype, copy, na_value)\u001b[0m\n\u001b[0;32m   1991\u001b[0m \u001b[38;5;28;01mif\u001b[39;00m dtype \u001b[38;5;129;01mis\u001b[39;00m \u001b[38;5;129;01mnot\u001b[39;00m \u001b[38;5;28;01mNone\u001b[39;00m:\n\u001b[0;32m   1992\u001b[0m     dtype \u001b[38;5;241m=\u001b[39m np\u001b[38;5;241m.\u001b[39mdtype(dtype)\n\u001b[1;32m-> 1993\u001b[0m result \u001b[38;5;241m=\u001b[39m \u001b[38;5;28;43mself\u001b[39;49m\u001b[38;5;241;43m.\u001b[39;49m\u001b[43m_mgr\u001b[49m\u001b[38;5;241;43m.\u001b[39;49m\u001b[43mas_array\u001b[49m\u001b[43m(\u001b[49m\u001b[43mdtype\u001b[49m\u001b[38;5;241;43m=\u001b[39;49m\u001b[43mdtype\u001b[49m\u001b[43m,\u001b[49m\u001b[43m \u001b[49m\u001b[43mcopy\u001b[49m\u001b[38;5;241;43m=\u001b[39;49m\u001b[43mcopy\u001b[49m\u001b[43m,\u001b[49m\u001b[43m \u001b[49m\u001b[43mna_value\u001b[49m\u001b[38;5;241;43m=\u001b[39;49m\u001b[43mna_value\u001b[49m\u001b[43m)\u001b[49m\n\u001b[0;32m   1994\u001b[0m \u001b[38;5;28;01mif\u001b[39;00m result\u001b[38;5;241m.\u001b[39mdtype \u001b[38;5;129;01mis\u001b[39;00m \u001b[38;5;129;01mnot\u001b[39;00m dtype:\n\u001b[0;32m   1995\u001b[0m     result \u001b[38;5;241m=\u001b[39m np\u001b[38;5;241m.\u001b[39masarray(result, dtype\u001b[38;5;241m=\u001b[39mdtype)\n",
      "File \u001b[1;32mc:\\Users\\masar\\Documents\\UFF\\Oitavo Semestre\\IA\\IACardio\\.venv\\Lib\\site-packages\\pandas\\core\\internals\\managers.py:1694\u001b[0m, in \u001b[0;36mBlockManager.as_array\u001b[1;34m(self, dtype, copy, na_value)\u001b[0m\n\u001b[0;32m   1692\u001b[0m         arr\u001b[38;5;241m.\u001b[39mflags\u001b[38;5;241m.\u001b[39mwriteable \u001b[38;5;241m=\u001b[39m \u001b[38;5;28;01mFalse\u001b[39;00m\n\u001b[0;32m   1693\u001b[0m \u001b[38;5;28;01melse\u001b[39;00m:\n\u001b[1;32m-> 1694\u001b[0m     arr \u001b[38;5;241m=\u001b[39m \u001b[38;5;28;43mself\u001b[39;49m\u001b[38;5;241;43m.\u001b[39;49m\u001b[43m_interleave\u001b[49m\u001b[43m(\u001b[49m\u001b[43mdtype\u001b[49m\u001b[38;5;241;43m=\u001b[39;49m\u001b[43mdtype\u001b[49m\u001b[43m,\u001b[49m\u001b[43m \u001b[49m\u001b[43mna_value\u001b[49m\u001b[38;5;241;43m=\u001b[39;49m\u001b[43mna_value\u001b[49m\u001b[43m)\u001b[49m\n\u001b[0;32m   1695\u001b[0m     \u001b[38;5;66;03m# The underlying data was copied within _interleave, so no need\u001b[39;00m\n\u001b[0;32m   1696\u001b[0m     \u001b[38;5;66;03m# to further copy if copy=True or setting na_value\u001b[39;00m\n\u001b[0;32m   1698\u001b[0m \u001b[38;5;28;01mif\u001b[39;00m na_value \u001b[38;5;129;01mis\u001b[39;00m lib\u001b[38;5;241m.\u001b[39mno_default:\n",
      "File \u001b[1;32mc:\\Users\\masar\\Documents\\UFF\\Oitavo Semestre\\IA\\IACardio\\.venv\\Lib\\site-packages\\pandas\\core\\internals\\managers.py:1753\u001b[0m, in \u001b[0;36mBlockManager._interleave\u001b[1;34m(self, dtype, na_value)\u001b[0m\n\u001b[0;32m   1751\u001b[0m     \u001b[38;5;28;01melse\u001b[39;00m:\n\u001b[0;32m   1752\u001b[0m         arr \u001b[38;5;241m=\u001b[39m blk\u001b[38;5;241m.\u001b[39mget_values(dtype)\n\u001b[1;32m-> 1753\u001b[0m     \u001b[43mresult\u001b[49m\u001b[43m[\u001b[49m\u001b[43mrl\u001b[49m\u001b[38;5;241;43m.\u001b[39;49m\u001b[43mindexer\u001b[49m\u001b[43m]\u001b[49m \u001b[38;5;241m=\u001b[39m arr\n\u001b[0;32m   1754\u001b[0m     itemmask[rl\u001b[38;5;241m.\u001b[39mindexer] \u001b[38;5;241m=\u001b[39m \u001b[38;5;241m1\u001b[39m\n\u001b[0;32m   1756\u001b[0m \u001b[38;5;28;01mif\u001b[39;00m \u001b[38;5;129;01mnot\u001b[39;00m itemmask\u001b[38;5;241m.\u001b[39mall():\n",
      "\u001b[1;31mValueError\u001b[0m: could not convert string to float: 'No'"
     ]
    }
   ],
   "source": [
    "# Calcular a matriz de correlação de Pearson\n",
    "correlation_matrix = heart_data.corr(method='pearson')\n",
    "\n",
    "# Plotar a matriz de correlação como um mapa de calor\n",
    "# plt.figure(figsize=(12, 8))\n",
    "# sns.heatmap(correlation_matrix, annot=True, cmap='coolwarm', fmt=\".2f\", vmin=-1, vmax=1)\n",
    "# plt.title('Matriz de Correlação de Pearson')\n",
    "# plt.show()"
   ]
  },
  {
   "cell_type": "markdown",
   "metadata": {},
   "source": [
    "**Correlação alta**\n",
    "\n",
    "- HadHeartAttack tem uma correlação moderada positiva com HadStroke (0.18), HadAngina (0.45), e HadCOPD (0.17). Isso sugere que pessoas que tiveram um ataque cardíaco também têm maior probabilidade de ter tido um derrame, angina ou COPD.\n",
    "HadStroke também está correlacionado com HadCOPD (0.20), indicando que esses eventos de saúde podem ocorrer juntos em alguns pacientes.\n",
    "\n",
    "**Correlação negativa**\n",
    "\n",
    "- PhysicalActivities tem uma correlação negativa moderada com DifficultyWalking (-0.26), DifficultyDressingBathing (-0.24), DifficultyErrands (-0.22), e DifficultyConcentrating (-0.16). Isso sugere que pessoas com mais atividades físicas tendem a ter menos dificuldades físicas.\n",
    "\n",
    "**Interpretação de correlações específicas**\n",
    "\n",
    "- GeneralHealth tem correlações moderadas com HadDepressiveDisorder (0.42), HadCOPD (0.30), e HadArthritis (0.31), indicando que a saúde geral autoavaliada é influenciada por essas condições.\n",
    "HadDepressiveDisorder tem uma correlação moderada com GeneralHealth (0.42), o que sugere que a presença de distúrbios depressivos pode afetar negativamente a percepção de saúde geral.\n",
    "Variáveis com correlação quase nula:\n",
    "\n",
    "- Variáveis como Sex, AgeCategory, e RaceEthnicityCategory têm correlações muito baixas com a maioria das outras variáveis, sugerindo que elas têm pouca influência linear direta sobre as outras variáveis medidas no dataset."
   ]
  },
  {
   "cell_type": "markdown",
   "metadata": {},
   "source": [
    "# Separação dos Conjuntos Treino e Teste\n",
    "\n",
    "- **Conjunto de Treino**: Contém 70% dos dados e é usado para treinar o modelo.\n",
    "- **Conjunto de Teste**: Contém 30% dos dados e é usado para avaliar a performance do modelo em dados não vistos durante o treinamento.\n",
    "train_test_split: Função do scikit-learn que facilita essa separação. O parâmetro random_state=42 é usado para garantir a reprodutibilidade dos resultados.\n",
    "\n",
    "- A proporção de 70/30 ou 80/20 é comum porque oferece um bom equilíbrio entre ter dados suficientes para treinar o modelo e dados suficientes para testar a performance do modelo."
   ]
  },
  {
   "cell_type": "code",
   "execution_count": null,
   "metadata": {},
   "outputs": [],
   "source": [
    "# Separa classe alvo e as restantes\n",
    "x = heart_data.drop('HadHeartAttack', axis=1)\n",
    "y = heart_data['HadHeartAttack']\n",
    "\n",
    "# Separa conjunto de treino e conjunto de teste\n",
    "xtrain, xtest, ytrain, ytest = train_test_split(x, y, train_size=0.70, random_state=42)\n",
    "\n",
    "# Transforma o vetor de destino y para ter uma dimensão unidimensional\n",
    "y_train = np.ravel(ytrain)\n"
   ]
  },
  {
   "cell_type": "markdown",
   "metadata": {},
   "source": [
    "# Undersampling do Dataset\n",
    "\n",
    "- **RandomUnderSampler**: Este método reduz o número de instâncias da classe majoritária para igualar o número de instâncias da classe minoritária, resultando em um dataset balanceado.\n",
    "- **Random State**: Garante reprodutibilidade dos resultados.\n",
    "- **Normalização dos Dados**: StandardScaler é usado para normalizar os dados, o que é uma prática comum antes de aplicar muitos algoritmos de aprendizado de máquina, especialmente aqueles que são sensíveis à escala dos dados, como regressão logística e SVM."
   ]
  },
  {
   "cell_type": "code",
   "execution_count": null,
   "metadata": {},
   "outputs": [
    {
     "name": "stdout",
     "output_type": "stream",
     "text": [
      "HadHeartAttack\n",
      "0    13429\n",
      "1    13429\n",
      "Name: count, dtype: int64\n"
     ]
    }
   ],
   "source": [
    "# Undersampling para balanceamento da classe alvo\n",
    "undersampler = RandomUnderSampler(random_state=42)\n",
    "X_resampled, y_resampled = undersampler.fit_resample(x, y)\n",
    "print(pd.Series(y_resampled).value_counts())\n"
   ]
  },
  {
   "cell_type": "markdown",
   "metadata": {},
   "source": [
    "# Normalização dos dados"
   ]
  },
  {
   "cell_type": "code",
   "execution_count": null,
   "metadata": {},
   "outputs": [],
   "source": [
    "# Normalização dos dados\n",
    "scaler = StandardScaler()\n",
    "X_scaled = scaler.fit_transform(X_resampled)"
   ]
  },
  {
   "cell_type": "markdown",
   "metadata": {},
   "source": [
    "# K-fold Crossvalidation\n",
    "\n",
    "- **Redução do Overfitting**:\n",
    "Ao usar múltiplos folds, K-Fold Cross-Validation minimiza a tendência do modelo de superestimar sua própria performance, proporcionando uma avaliação mais precisa da sua capacidade de generalização. \n",
    "Fontes como \"Pattern Recognition and Machine Learning\" de Christopher Bishop discutem a importância de técnicas de validação cruzada para evitar overfitting.\n",
    "\n",
    "- **Utilização Completa do Dataset**:\n",
    "Cada observação no dataset é usada tanto para treinamento quanto para teste. \n",
    "Isso maximiza o uso dos dados disponíveis, especialmente útil em datasets pequenos, como destacado em \"The Elements of Statistical Learning\" de Hastie, Tibshirani e Friedman.\n",
    "\n",
    "- **Estimativa Robusta da Performance do Modelo**:\n",
    "K-Fold Cross-Validation fornece uma estimativa mais robusta da performance do modelo, já que o resultado final é a média dos resultados de todos os folds. \n",
    "Isso reduz a variação que pode resultar de uma única divisão dos dados, como discutido em \"Introduction to Statistical Learning\" pelos mesmos autores.\n",
    "\n",
    "- **Desempenho Comparativo**:\n",
    "Permite a comparação eficaz entre diferentes modelos e parâmetros, utilizando a mesma estrutura de dados. \n",
    "Este método é essencial para selecionar o melhor modelo e ajustes de hiperparâmetros, como abordado em \"Applied Predictive Modeling\" por Kuhn e Johnson.\n",
    "\n",
    "- **Parâmetros Específicos**:\n",
    "\n",
    "* **Número de Folds (n_splits=10)**: 10 é um valor comum que proporciona um bom equilíbrio entre viés e variância na estimativa da performance do modelo.\n",
    "    * Shuffle=True: Mistura os dados antes de dividi-los em folds, garantindo que cada fold seja representativo da distribuição geral dos dados.\n",
    "    * Random State: Garante reprodutibilidade dos resultados ao manter a consistência na forma como os dados são embaralhados e divididos em folds."
   ]
  },
  {
   "cell_type": "code",
   "execution_count": null,
   "metadata": {},
   "outputs": [],
   "source": [
    "# K-Fold Cross-Validation\n",
    "kfold = KFold(n_splits=10, shuffle=True, random_state=42)"
   ]
  },
  {
   "cell_type": "markdown",
   "metadata": {},
   "source": [
    "# Cálculo do K ótimo"
   ]
  },
  {
   "cell_type": "code",
   "execution_count": null,
   "metadata": {},
   "outputs": [
    {
     "name": "stdout",
     "output_type": "stream",
     "text": [
      "The optimal number of neighbors is 35\n"
     ]
    }
   ],
   "source": [
    "# Assumindo que seus dados estão armazenados em X_scaled e y_resampled\n",
    "# Range de valores K para testar\n",
    "k_range = range(1, 45)\n",
    "k_scores = []\n",
    "\n",
    "\n",
    "# Avaliar o KNN para cada valor de K usando validação cruzada\n",
    "for k in k_range:\n",
    "   knn = KNeighborsClassifier(n_neighbors=k)\n",
    "   scores = cross_val_score(knn, X_scaled, y_resampled, cv=10, scoring='accuracy')\n",
    "   k_scores.append(scores.mean())\n",
    "\n",
    "# # Plotar a acurácia para cada valor de K\n",
    "# plt.figure(figsize=(8, 4))\n",
    "# plt.plot(k_range, k_scores, 'bo-')\n",
    "# plt.xlabel('Número de Vizinhos K')\n",
    "# plt.ylabel('Acurácia')\n",
    "# plt.title('Número ótimo de K para o KNN')\n",
    "# plt.show()\n",
    "\n",
    "# Melhor valor de K\n",
    "optimal_k = k_range[np.argmax(k_scores)]\n",
    "print(f'The optimal number of neighbors is {optimal_k}') "
   ]
  },
  {
   "cell_type": "markdown",
   "metadata": {},
   "source": [
    "# Avaliação dos Modelos\n",
    "\n",
    "1. **Acurácia**: Proporção de previsões corretas.\n",
    "2. **Precisão**: Proporção de verdadeiros positivos entre as previsões positivas.\n",
    "3. **Recall**: Proporção de verdadeiros positivos entre os casos positivos reais.\n",
    "4. **F1-Score**: Média harmônica da precisão e recall.\n",
    "5. **ROC AUC**: Área sob a curva ROC, que mede a capacidade do modelo em distinguir entre as classes."
   ]
  },
  {
   "cell_type": "markdown",
   "metadata": {},
   "source": [
    "### Definição das métricas"
   ]
  },
  {
   "cell_type": "code",
   "execution_count": null,
   "metadata": {},
   "outputs": [],
   "source": [
    "metricas = {\n",
    "        'accuracy': metrics.make_scorer(metrics.accuracy_score),\n",
    "        'precision': metrics.make_scorer(metrics.precision_score, average='weighted'),\n",
    "        'recall': metrics.make_scorer(metrics.recall_score, average='weighted'),\n",
    "        'f1_score': metrics.make_scorer(metrics.f1_score, average='weighted'),\n",
    "        'roc_auc': metrics.make_scorer(metrics.roc_auc_score, average='weighted', needs_proba=True, multi_class='ovr')\n",
    "    }"
   ]
  },
  {
   "cell_type": "markdown",
   "metadata": {},
   "source": [
    "### Função para calcular métricas"
   ]
  },
  {
   "cell_type": "code",
   "execution_count": null,
   "metadata": {},
   "outputs": [],
   "source": [
    "# Função para calcular métricas\n",
    "def evaluate_model(model, X, y, metricas):\n",
    "    results = {}\n",
    "    for metric_name, metric in metricas.items():\n",
    "        scores = cross_val_score(model, X, y, cv=kfold, scoring=metric)\n",
    "        results[metric_name] = scores\n",
    "    return results"
   ]
  },
  {
   "cell_type": "markdown",
   "metadata": {},
   "source": [
    "### Definição dos modelos"
   ]
  },
  {
   "cell_type": "code",
   "execution_count": null,
   "metadata": {},
   "outputs": [
    {
     "ename": "NameError",
     "evalue": "name 'KNeighborsClassifier' is not defined",
     "output_type": "error",
     "traceback": [
      "\u001b[1;31m---------------------------------------------------------------------------\u001b[0m",
      "\u001b[1;31mNameError\u001b[0m                                 Traceback (most recent call last)",
      "Cell \u001b[1;32mIn[3], line 3\u001b[0m\n\u001b[0;32m      1\u001b[0m \u001b[38;5;66;03m# Modelos\u001b[39;00m\n\u001b[0;32m      2\u001b[0m models \u001b[38;5;241m=\u001b[39m {\n\u001b[1;32m----> 3\u001b[0m     \u001b[38;5;124m'\u001b[39m\u001b[38;5;124mKNN\u001b[39m\u001b[38;5;124m'\u001b[39m: \u001b[43mKNeighborsClassifier\u001b[49m(n_neighbors\u001b[38;5;241m=\u001b[39moptimal_k),\n\u001b[0;32m      4\u001b[0m     \u001b[38;5;124m'\u001b[39m\u001b[38;5;124mLogistic Regression\u001b[39m\u001b[38;5;124m'\u001b[39m: LogisticRegression(),\n\u001b[0;32m      5\u001b[0m     \u001b[38;5;124m'\u001b[39m\u001b[38;5;124mDecision Tree\u001b[39m\u001b[38;5;124m'\u001b[39m: DecisionTreeClassifier()\n\u001b[0;32m      6\u001b[0m     \u001b[38;5;66;03m#'Random Forest': RandomForestClassifier()\u001b[39;00m\n\u001b[0;32m      7\u001b[0m }\n",
      "\u001b[1;31mNameError\u001b[0m: name 'KNeighborsClassifier' is not defined"
     ]
    }
   ],
   "source": [
    "# Modelos\n",
    "models = {\n",
    "    'KNN': KNeighborsClassifier(n_neighbors=optimal_k),\n",
    "    'Logistic Regression': LogisticRegression(),\n",
    "    'Decision Tree': DecisionTreeClassifier()\n",
    "}\n",
    "    #'Random Forest': RandomForestClassifier()"
   ]
  },
  {
   "cell_type": "markdown",
   "metadata": {},
   "source": [
    "### Avaliação dos Modelos com K-Fold"
   ]
  },
  {
   "cell_type": "code",
   "execution_count": null,
   "metadata": {},
   "outputs": [
    {
     "ename": "NameError",
     "evalue": "name 'models' is not defined",
     "output_type": "error",
     "traceback": [
      "\u001b[1;31m---------------------------------------------------------------------------\u001b[0m",
      "\u001b[1;31mNameError\u001b[0m                                 Traceback (most recent call last)",
      "Cell \u001b[1;32mIn[1], line 4\u001b[0m\n\u001b[0;32m      1\u001b[0m \u001b[38;5;66;03m# Avaliação dos Modelos com K-Fold\u001b[39;00m\n\u001b[0;32m      2\u001b[0m results \u001b[38;5;241m=\u001b[39m {}\n\u001b[1;32m----> 4\u001b[0m \u001b[38;5;28;01mfor\u001b[39;00m name, model \u001b[38;5;129;01min\u001b[39;00m \u001b[43mmodels\u001b[49m\u001b[38;5;241m.\u001b[39mitems():\n\u001b[0;32m      5\u001b[0m     model_results \u001b[38;5;241m=\u001b[39m evaluate_model(model, X_scaled, y_resampled, metricas)\n\u001b[0;32m      6\u001b[0m     results[name] \u001b[38;5;241m=\u001b[39m model_results\n",
      "\u001b[1;31mNameError\u001b[0m: name 'models' is not defined"
     ]
    }
   ],
   "source": [
    "# Avaliação dos Modelos com K-Fold\n",
    "results = {}\n",
    "\n",
    "for name, model in models.items():\n",
    "    model_results = evaluate_model(model, X_scaled, y_resampled, metricas)\n",
    "    results[name] = model_results\n",
    "    print(f'{name}:')\n",
    "    for metric_name, scores in model_results.items():\n",
    "        print(f'  {metric_name}: {scores.mean():.4f} (+/- {scores.std():.4f})')\n",
    "\n",
    "# Comparação Final dos Modelos\n",
    "result_df = pd.DataFrame({metric: {model: results[model][metric].mean() for model in models} for metric in metrics}) # FIXME! Não está conseguindo iterar nas métricas\n",
    "print(result_df)"
   ]
  },
  {
   "cell_type": "code",
   "execution_count": null,
   "metadata": {},
   "outputs": [
    {
     "name": "stderr",
     "output_type": "stream",
     "text": [
      "c:\\Users\\masar\\Documents\\UFF\\Oitavo Semestre\\IA\\IACardio\\.venv\\Lib\\site-packages\\sklearn\\base.py:486: UserWarning: X has feature names, but RandomForestClassifier was fitted without feature names\n",
      "  warnings.warn(\n"
     ]
    },
    {
     "data": {
      "image/png": "[encoded data removed]",
      "text/plain": [
       "<Figure size 640x480 with 2 Axes>"
      ]
     },
     "metadata": {},
     "output_type": "display_data"
    }
   ],
   "source": [
    "# Treinando o modelo Random Forest com todos os dados\n",
    "rf_model = RandomForestClassifier(random_state=42)\n",
    "rf_model.fit(X_scaled, y_resampled)\n",
    "\n",
    "# Predições no conjunto de teste\n",
    "y_pred = rf_model.predict(xtest)\n",
    "\n",
    "# Calculando a matriz de confusão\n",
    "cm = metrics.confusion_matrix(ytest, y_pred)\n",
    "\n",
    "# Exibindo a matriz de confusão\n",
    "disp = metrics.ConfusionMatrixDisplay(confusion_matrix=cm, display_labels=rf_model.classes_)\n",
    "disp.plot(cmap=plt.cm.Blues)\n",
    "plt.title('Random Forest - Matriz de Confusão')\n",
    "plt.show()\n"
   ]
  }
 ],
 "metadata": {
  "kernelspec": {
   "display_name": "Python 3",
   "language": "python",
   "name": "python3"
  },
  "language_info": {
   "codemirror_mode": {
    "name": "ipython",
    "version": 3
   },
   "file_extension": ".py",
   "mimetype": "text/x-python",
   "name": "python",
   "nbconvert_exporter": "python",
   "pygments_lexer": "ipython3",
   "version": "3.12.1"
  }
 },
 "nbformat": 4,
 "nbformat_minor": 2
}
